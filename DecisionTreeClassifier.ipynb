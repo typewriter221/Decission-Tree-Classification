{
  "nbformat": 4,
  "nbformat_minor": 0,
  "metadata": {
    "colab": {
      "name": "DecisionTreeClassifier.ipynb",
      "provenance": [],
      "collapsed_sections": [],
      "mount_file_id": "11Ca7HSsZUtqAbtVAaxf_kU1sn8sdqyrJ",
      "authorship_tag": "ABX9TyOjez6ASRIrR/ekbX2ZBHQZ",
      "include_colab_link": true
    },
    "kernelspec": {
      "name": "python3",
      "display_name": "Python 3"
    }
  },
  "cells": [
    {
      "cell_type": "markdown",
      "metadata": {
        "id": "view-in-github",
        "colab_type": "text"
      },
      "source": [
        "<a href=\"https://colab.research.google.com/github/typewriter221/Decission-Tree-Classification/blob/master/DecisionTreeClassifier.ipynb\" target=\"_parent\"><img src=\"https://colab.research.google.com/assets/colab-badge.svg\" alt=\"Open In Colab\"/></a>"
      ]
    },
    {
      "cell_type": "code",
      "metadata": {
        "id": "nwDLbhKbCo2O",
        "colab_type": "code",
        "colab": {}
      },
      "source": [
        "import numpy as np\n",
        "# https://towardsdatascience.com/decision-tree-from-scratch-in-python-46e99dfea775"
      ],
      "execution_count": null,
      "outputs": []
    },
    {
      "cell_type": "code",
      "metadata": {
        "id": "jLIWfsnf3esN",
        "colab_type": "code",
        "colab": {}
      },
      "source": [
        "class DecisionTreeClassifier:\n",
        "  count=0\n",
        "  def __init__(self,max_depth):\n",
        "    self.max_depth = max_depth\n",
        "  def best_split(self,X,y):\n",
        "    m = y.size\n",
        "    if m<2:\n",
        "      return None,None\n",
        "    num_parent = [np.sum(y==c)for c in range(self.n_classes_)]\n",
        "    # Gini of current node.\n",
        "    best_gini = 1.0 - sum((n / m) ** 2 for n in num_parent)\n",
        "    best_idx,best_thr = None, None\n",
        "    for idx in range(self.n_features_):\n",
        "      left_classes = [0]*self.n_classes_\n",
        "      right_classes = num_parent.copy()\n",
        "      thresholds, classes = zip(*sorted(zip(X[:,idx],y)))\n",
        "      for i in range(1,m):\n",
        "        c = classes[i-1]\n",
        "        left_classes[c]+=1\n",
        "        right_classes[c]-=1\n",
        "        \n",
        "        if thresholds[i-1]==thresholds[i]:\n",
        "          self.count+=1\n",
        "          continue\n",
        "        \n",
        "        gini_left = 1-sum((left_classes[x]/i)**2 for x in range(self.n_classes_))\n",
        "        gini_right = 1-sum((right_classes[x]/(m-i))**2 for x in range(self.n_classes_))\n",
        "        gini_avg = ((i*gini_left)+((m-i)*gini_right))/m\n",
        "        \n",
        "        \n",
        "        if gini_avg<best_gini:\n",
        "          best_gini = gini_avg\n",
        "          best_thr = (thresholds[i]+thresholds[i-1])/2\n",
        "          best_idx = idx\n",
        "      \n",
        "    return best_idx,best_thr\n",
        "\n",
        "  def fit(self,X,y):\n",
        "    self.n_classes_ = len(set(y))\n",
        "    self.n_features_ = X.shape[1]\n",
        "    self.tree_ = self._grow_tree(X,y)\n",
        "  def _grow_tree(self,X,y,depth=0):\n",
        "\n",
        "    num_samples_per_class  = [np.sum(y==i) for i in range(self.n_classes_)]\n",
        "    predicted_class = np.argmax(num_samples_per_class)\n",
        "    node = Node(\n",
        "          gini=self._gini(y),\n",
        "          num_samples=y.size,\n",
        "          num_samples_per_class=num_samples_per_class,\n",
        "          predicted_class=predicted_class,\n",
        "    )\n",
        "    if depth<self.max_depth:\n",
        "      idx,thr = self.best_split(X,y)\n",
        "      if idx is not None:\n",
        "        indices_left = X[:,idx]<thr\n",
        "        X_left,Y_left = X[indices_left],y[indices_left]\n",
        "        X_right,Y_right = X[~indices_left],y[~indices_left]\n",
        "        node.feature_index = idx\n",
        "        node.threshold = thr\n",
        "        node.left = self._grow_tree(X_left,Y_left,depth+1)\n",
        "        node.right = self._grow_tree(X_right,Y_right,depth+1)\n",
        "\n",
        "    return node\n",
        "  def predict(self, X):\n",
        "    return [self._predict(inputs) for inputs in X]\n",
        "\n",
        "  def _predict(self, inputs):\n",
        "    \"\"\"Predict class for a single sample.\"\"\"\n",
        "    node = self.tree_\n",
        "    print(node.feature_index)\n",
        "    while node.left:\n",
        "        if inputs[node.feature_index] < node.threshold:\n",
        "            node = node.left\n",
        "        else:\n",
        "            node = node.right\n",
        "    return node.predicted_class\n",
        "  def _gini(self, y):\n",
        "    \"\"\"Compute Gini impurity of a non-empty node.\n",
        "    Gini impurity is defined as Σ p(1-p) over all classes, with p the frequency of a\n",
        "    class within the node. Since Σ p = 1, this is equivalent to 1 - Σ p^2.\n",
        "    \"\"\"\n",
        "    m = y.size\n",
        "    return 1.0 - sum((np.sum(y == c) / m) ** 2 for c in range(self.n_classes_))\n",
        "  def debug(self, feature_names, class_names, show_details=True):\n",
        "    \"\"\"Print ASCII visualization of decision tree.\"\"\"\n",
        "    self.tree_.debug(feature_names, class_names, show_details)\n"
      ],
      "execution_count": null,
      "outputs": []
    },
    {
      "cell_type": "code",
      "metadata": {
        "id": "tr_nMpCR304-",
        "colab_type": "code",
        "colab": {}
      },
      "source": [
        "class Node:\n",
        "    \"\"\"A decision tree node.\"\"\"\n",
        "\n",
        "    def __init__(self, gini, num_samples, num_samples_per_class, predicted_class):\n",
        "        self.gini = gini\n",
        "        self.num_samples = num_samples\n",
        "        self.num_samples_per_class = num_samples_per_class\n",
        "        self.predicted_class = predicted_class\n",
        "        self.feature_index = 0\n",
        "        self.threshold = 0\n",
        "        self.left = None\n",
        "        self.right = None\n",
        "\n",
        "    def debug(self, feature_names, class_names, show_details):\n",
        "        \"\"\"Print an ASCII visualization of the tree.\"\"\"\n",
        "        lines, _, _, _ = self._debug_aux(\n",
        "            feature_names, class_names, show_details, root=True\n",
        "        )\n",
        "        for line in lines:\n",
        "            print(line)\n",
        "\n",
        "    def _debug_aux(self, feature_names, class_names, show_details, root=False):\n",
        "        # See https://stackoverflow.com/a/54074933/1143396 for similar code.\n",
        "        is_leaf = not self.right\n",
        "        if is_leaf:\n",
        "            lines = [class_names[self.predicted_class]]\n",
        "        else:\n",
        "            lines = [\n",
        "                \"{} < {:.2f}\".format(feature_names[self.feature_index], self.threshold)\n",
        "            ]\n",
        "        if show_details:\n",
        "            lines += [\n",
        "                \"gini = {:.2f}\".format(self.gini),\n",
        "                \"samples = {}\".format(self.num_samples),\n",
        "                str(self.num_samples_per_class),\n",
        "            ]\n",
        "        width = max(len(line) for line in lines)\n",
        "        height = len(lines)\n",
        "        if is_leaf:\n",
        "            lines = [\"║ {:^{width}} ║\".format(line, width=width) for line in lines]\n",
        "            lines.insert(0, \"╔\" + \"═\" * (width + 2) + \"╗\")\n",
        "            lines.append(\"╚\" + \"═\" * (width + 2) + \"╝\")\n",
        "        else:\n",
        "            lines = [\"│ {:^{width}} │\".format(line, width=width) for line in lines]\n",
        "            lines.insert(0, \"┌\" + \"─\" * (width + 2) + \"┐\")\n",
        "            lines.append(\"└\" + \"─\" * (width + 2) + \"┘\")\n",
        "            lines[-2] = \"┤\" + lines[-2][1:-1] + \"├\"\n",
        "        width += 4  # for padding\n",
        "\n",
        "        if is_leaf:\n",
        "            middle = width // 2\n",
        "            lines[0] = lines[0][:middle] + \"╧\" + lines[0][middle + 1 :]\n",
        "            return lines, width, height, middle\n",
        "\n",
        "        # If not a leaf, must have two children.\n",
        "        left, n, p, x = self.left._debug_aux(feature_names, class_names, show_details)\n",
        "        right, m, q, y = self.right._debug_aux(feature_names, class_names, show_details)\n",
        "        top_lines = [n * \" \" + line + m * \" \" for line in lines[:-2]]\n",
        "        # fmt: off\n",
        "        middle_line = x * \" \" + \"┌\" + (n - x - 1) * \"─\" + lines[-2] + y * \"─\" + \"┐\" + (m - y - 1) * \" \"\n",
        "        bottom_line = x * \" \" + \"│\" + (n - x - 1) * \" \" + lines[-1] + y * \" \" + \"│\" + (m - y - 1) * \" \"\n",
        "        # fmt: on\n",
        "        if p < q:\n",
        "            left += [n * \" \"] * (q - p)\n",
        "        elif q < p:\n",
        "            right += [m * \" \"] * (p - q)\n",
        "        zipped_lines = zip(left, right)\n",
        "        lines = (\n",
        "            top_lines\n",
        "            + [middle_line, bottom_line]\n",
        "            + [a + width * \" \" + b for a, b in zipped_lines]\n",
        "        )\n",
        "        middle = n + width // 2\n",
        "        if not root:\n",
        "            lines[0] = lines[0][:middle] + \"┴\" + lines[0][middle + 1 :]\n",
        "        return lines, n + m + width, max(p, q) + 2 + len(top_lines), middle"
      ],
      "execution_count": null,
      "outputs": []
    },
    {
      "cell_type": "code",
      "metadata": {
        "id": "A82CD1UrBZnr",
        "colab_type": "code",
        "colab": {
          "base_uri": "https://localhost:8080/",
          "height": 323
        },
        "outputId": "4dd671ad-8de7-4db1-caee-68d710e538fd"
      },
      "source": [
        "import pandas as pd\n",
        "df = pd.read_csv(\"/content/drive/My Drive/datasets/wifi_localization.txt\",delimiter = \"\\t\")\n",
        "data = df.to_numpy()\n",
        "X = data[:,:-1]\n",
        "y = data[:,-1]-1\n",
        "clf = DecisionTreeClassifier(max_depth=2)\n",
        "clf.fit(X, y)\n",
        "\n",
        "\n",
        "# Visualize.\n",
        "clf.debug(\n",
        "    feature_names=[\"Wifi {}\".format(i) for i in range(1, 8)],\n",
        "    class_names=[\"Room {}\".format(i) for i in range(1, 5)],\n",
        ")\n"
      ],
      "execution_count": null,
      "outputs": [
        {
          "output_type": "stream",
          "text": [
            "                                                          ┌──────────────────────┐                                                         \n",
            "                                                          │   Wifi 1 < -54.50    │                                                         \n",
            "                                                          │     gini = 0.75      │                                                         \n",
            "                                                          │    samples = 1999    │                                                         \n",
            "                             ┌────────────────────────────┤ [499, 500, 500, 500] ├─────────────────────────────┐                           \n",
            "                             │                            └──────────────────────┘                             │                           \n",
            "                   ┌─────────┴─────────┐                                                             ┌─────────┴────────┐                  \n",
            "                   │  Wifi 5 < -59.50  │                                                             │ Wifi 1 < -44.50  │                  \n",
            "                   │    gini = 0.51    │                                                             │   gini = 0.50    │                  \n",
            "                   │  samples = 1011   │                                                             │  samples = 988   │                  \n",
            "         ┌─────────┤ [499, 0, 15, 497] ├─────────┐                                         ┌─────────┤ [0, 500, 485, 3] ├─────────┐        \n",
            "         │         └───────────────────┘         │                                         │         └──────────────────┘         │        \n",
            "╔════════╧════════╗                     ╔════════╧═══════╗                        ╔════════╧════════╗                    ╔════════╧═══════╗\n",
            "║     Room 1      ║                     ║     Room 4     ║                        ║     Room 3      ║                    ║     Room 2     ║\n",
            "║   gini = 0.06   ║                     ║  gini = 0.02   ║                        ║   gini = 0.20   ║                    ║  gini = 0.03   ║\n",
            "║  samples = 514  ║                     ║ samples = 497  ║                        ║  samples = 538  ║                    ║ samples = 450  ║\n",
            "║ [499, 0, 11, 4] ║                     ║ [0, 0, 4, 493] ║                        ║ [0, 58, 477, 3] ║                    ║ [0, 442, 8, 0] ║\n",
            "╚═════════════════╝                     ╚════════════════╝                        ╚═════════════════╝                    ╚════════════════╝\n"
          ],
          "name": "stdout"
        }
      ]
    },
    {
      "cell_type": "code",
      "metadata": {
        "id": "2swfwjidLiCt",
        "colab_type": "code",
        "colab": {
          "base_uri": "https://localhost:8080/",
          "height": 34
        },
        "outputId": "d7bcdfe6-8b7c-4fb6-88b2-d15ff6d6f6e0"
      },
      "source": [
        "clf.count"
      ],
      "execution_count": null,
      "outputs": [
        {
          "output_type": "execute_result",
          "data": {
            "text/plain": [
              "27266"
            ]
          },
          "metadata": {
            "tags": []
          },
          "execution_count": 32
        }
      ]
    },
    {
      "cell_type": "code",
      "metadata": {
        "id": "WQhX8M8dV_tV",
        "colab_type": "code",
        "colab": {}
      },
      "source": [
        ""
      ],
      "execution_count": null,
      "outputs": []
    },
    {
      "cell_type": "code",
      "metadata": {
        "id": "gdjhAIqcFQuT",
        "colab_type": "code",
        "colab": {
          "base_uri": "https://localhost:8080/",
          "height": 102
        },
        "outputId": "38c3766c-0b0e-47a7-d930-5f1d6636a016"
      },
      "source": [
        "inputs = X[-5:-1,:]\n",
        "\n",
        "clf.predict(inputs)"
      ],
      "execution_count": null,
      "outputs": [
        {
          "output_type": "stream",
          "text": [
            "0\n",
            "0\n",
            "0\n",
            "0\n"
          ],
          "name": "stdout"
        },
        {
          "output_type": "execute_result",
          "data": {
            "text/plain": [
              "[3, 3, 3, 3]"
            ]
          },
          "metadata": {
            "tags": []
          },
          "execution_count": 28
        }
      ]
    },
    {
      "cell_type": "code",
      "metadata": {
        "id": "bB_mmGHhJOis",
        "colab_type": "code",
        "colab": {}
      },
      "source": [
        "inputs = X[0,:]"
      ],
      "execution_count": null,
      "outputs": []
    },
    {
      "cell_type": "code",
      "metadata": {
        "id": "wYvqdwpNJY2T",
        "colab_type": "code",
        "colab": {
          "base_uri": "https://localhost:8080/",
          "height": 34
        },
        "outputId": "52389649-f5f2-48f9-daa8-69df2d3f19b1"
      },
      "source": [
        "inputs[1]"
      ],
      "execution_count": null,
      "outputs": [
        {
          "output_type": "execute_result",
          "data": {
            "text/plain": [
              "-57"
            ]
          },
          "metadata": {
            "tags": []
          },
          "execution_count": 30
        }
      ]
    },
    {
      "cell_type": "code",
      "metadata": {
        "id": "WXBS053bJa19",
        "colab_type": "code",
        "colab": {
          "base_uri": "https://localhost:8080/",
          "height": 34
        },
        "outputId": "967be6e7-0f62-42d7-d2b4-7bc48fdec476"
      },
      "source": [
        "y[-5:-1]"
      ],
      "execution_count": null,
      "outputs": [
        {
          "output_type": "execute_result",
          "data": {
            "text/plain": [
              "array([3, 3, 3, 3])"
            ]
          },
          "metadata": {
            "tags": []
          },
          "execution_count": 31
        }
      ]
    },
    {
      "cell_type": "code",
      "metadata": {
        "id": "lnwT9ByTUjoM",
        "colab_type": "code",
        "colab": {}
      },
      "source": [
        ""
      ],
      "execution_count": null,
      "outputs": []
    }
  ]
}